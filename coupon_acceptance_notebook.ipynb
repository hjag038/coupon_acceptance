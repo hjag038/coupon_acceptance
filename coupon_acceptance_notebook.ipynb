{
 "cells": [
  {
   "cell_type": "markdown",
   "metadata": {
    "id": "CcUT6Fon_qRE"
   },
   "source": [
    "### Required Assignment 5.1: Will the Customer Accept the Coupon?\n",
    "\n",
    "**Context**\n",
    "\n",
    "Imagine driving through town and a coupon is delivered to your cell phone for a restaurant near where you are driving. Would you accept that coupon and take a short detour to the restaurant? Would you accept the coupon but use it on a subsequent trip? Would you ignore the coupon entirely? What if the coupon was for a bar instead of a restaurant? What about a coffee house? Would you accept a bar coupon with a minor passenger in the car? What about if it was just you and your partner in the car? Would weather impact the rate of acceptance? What about the time of day?\n",
    "\n",
    "Obviously, proximity to the business is a factor on whether the coupon is delivered to the driver or not, but what are the factors that determine whether a driver accepts the coupon once it is delivered to them? How would you determine whether a driver is likely to accept a coupon?\n",
    "\n",
    "**Overview**\n",
    "\n",
    "The goal of this project is to use what you know about visualizations and probability distributions to distinguish between customers who accepted a driving coupon versus those that did not.\n",
    "\n",
    "**Data**\n",
    "\n",
    "This data comes to us from the UCI Machine Learning repository and was collected via a survey on Amazon Mechanical Turk. The survey describes different driving scenarios including the destination, current time, weather, passenger, etc., and then ask the person whether he will accept the coupon if he is the driver. Answers that the user will drive there ‘right away’ or ‘later before the coupon expires’ are labeled as ‘Y = 1’ and answers ‘no, I do not want the coupon’ are labeled as ‘Y = 0’.  There are five different types of coupons -- less expensive restaurants (under \\$20), coffee houses, carry out & take away, bar, and more expensive restaurants (\\$20 - $50)."
   ]
  },
  {
   "cell_type": "markdown",
   "metadata": {
    "id": "1wORvMBJ_qRF"
   },
   "source": [
    "**Deliverables**\n",
    "\n",
    "Your final product should be a brief report that highlights the differences between customers who did and did not accept the coupons.  To explore the data you will utilize your knowledge of plotting, statistical summaries, and visualization using Python. You will publish your findings in a public facing github repository as your first portfolio piece.\n",
    "\n",
    "\n",
    "\n"
   ]
  },
  {
   "cell_type": "markdown",
   "metadata": {
    "id": "pG6_Ym6q_qRG"
   },
   "source": [
    "### Data Description\n",
    "Keep in mind that these values mentioned below are average values.\n",
    "\n",
    "The attributes of this data set include:\n",
    "1. User attributes\n",
    "    -  Gender: male, female\n",
    "    -  Age: below 21, 21 to 25, 26 to 30, etc.\n",
    "    -  Marital Status: single, married partner, unmarried partner, or widowed\n",
    "    -  Number of children: 0, 1, or more than 1\n",
    "    -  Education: high school, bachelors degree, associates degree, or graduate degree\n",
    "    -  Occupation: architecture & engineering, business & financial, etc.\n",
    "    -  Annual income: less than \\\\$12500, \\\\$12500 - \\\\$24999, \\\\$25000 - \\\\$37499, etc.\n",
    "    -  Number of times that he/she goes to a bar: 0, less than 1, 1 to 3, 4 to 8 or greater than 8\n",
    "    -  Number of times that he/she buys takeaway food: 0, less than 1, 1 to 3, 4 to 8 or greater\n",
    "    than 8\n",
    "    -  Number of times that he/she goes to a coffee house: 0, less than 1, 1 to 3, 4 to 8 or\n",
    "    greater than 8\n",
    "    -  Number of times that he/she eats at a restaurant with average expense less than \\\\$20 per\n",
    "    person: 0, less than 1, 1 to 3, 4 to 8 or greater than 8\n",
    "    -  Number of times that he/she goes to a bar: 0, less than 1, 1 to 3, 4 to 8 or greater than 8\n",
    "    \n",
    "\n",
    "2. Contextual attributes\n",
    "    - Driving destination: home, work, or no urgent destination\n",
    "    - Location of user, coupon and destination: we provide a map to show the geographical\n",
    "    location of the user, destination, and the venue, and we mark the distance between each\n",
    "    two places with time of driving. The user can see whether the venue is in the same\n",
    "    direction as the destination.\n",
    "    - Weather: sunny, rainy, or snowy\n",
    "    - Temperature: 30F, 55F, or 80F\n",
    "    - Time: 10AM, 2PM, or 6PM\n",
    "    - Passenger: alone, partner, kid(s), or friend(s)\n",
    "\n",
    "\n",
    "3. Coupon attributes\n",
    "    - time before it expires: 2 hours or one day"
   ]
  },
  {
   "cell_type": "code",
   "execution_count": 1,
   "metadata": {
    "colab": {
     "base_uri": "https://localhost:8080/"
    },
    "id": "dzNoP3o__qRG",
    "outputId": "ae5865e0-8407-4f80-9d48-d8fac0e68006"
   },
   "outputs": [],
   "source": [
    "# -----------------------------\n",
    "# Imports\n",
    "# -----------------------------\n",
    "import matplotlib.pyplot as plt\n",
    "import seaborn as sns\n",
    "import pandas as pd\n",
    "import numpy as np\n",
    "\n",
    "# Global plot style\n",
    "sns.set(context=\"notebook\", style=\"whitegrid\")\n",
    "plt.rcParams[\"figure.figsize\"] = (7.5, 4.5)\n",
    "plt.rcParams[\"axes.titlesize\"] = 12\n",
    "plt.rcParams[\"axes.labelsize\"] = 11\n",
    "\n",
    "# Avoid long auto-printed outputs\n",
    "pd.set_option(\"display.max_rows\", 30)\n",
    "pd.set_option(\"display.max_columns\", 25)"
   ]
  },
  {
   "cell_type": "markdown",
   "metadata": {
    "id": "Ct8pI1uE_qRG"
   },
   "source": [
    "### Problems\n",
    "\n",
    "Use the prompts below to get started with your data analysis.  \n",
    "\n",
    "1. Read in the `coupons.csv` file.\n",
    "\n",
    "\n"
   ]
  },
  {
   "cell_type": "code",
   "execution_count": 2,
   "metadata": {
    "id": "X0vbffYg_qRH"
   },
   "outputs": [],
   "source": [
    "data = pd.read_csv('data/coupons.csv')"
   ]
  },
  {
   "cell_type": "code",
   "execution_count": 3,
   "metadata": {
    "colab": {
     "base_uri": "https://localhost:8080/",
     "height": 429
    },
    "id": "TXofQ_DF_qRH",
    "outputId": "69720cf0-3d47-44a0-99e3-eda4794dbb2f"
   },
   "outputs": [
    {
     "data": {
      "text/html": [
       "<div>\n",
       "<style scoped>\n",
       "    .dataframe tbody tr th:only-of-type {\n",
       "        vertical-align: middle;\n",
       "    }\n",
       "\n",
       "    .dataframe tbody tr th {\n",
       "        vertical-align: top;\n",
       "    }\n",
       "\n",
       "    .dataframe thead th {\n",
       "        text-align: right;\n",
       "    }\n",
       "</style>\n",
       "<table border=\"1\" class=\"dataframe\">\n",
       "  <thead>\n",
       "    <tr style=\"text-align: right;\">\n",
       "      <th></th>\n",
       "      <th>destination</th>\n",
       "      <th>passanger</th>\n",
       "      <th>weather</th>\n",
       "      <th>temperature</th>\n",
       "      <th>time</th>\n",
       "      <th>coupon</th>\n",
       "      <th>expiration</th>\n",
       "      <th>gender</th>\n",
       "      <th>age</th>\n",
       "      <th>maritalStatus</th>\n",
       "      <th>has_children</th>\n",
       "      <th>education</th>\n",
       "      <th>...</th>\n",
       "      <th>car</th>\n",
       "      <th>Bar</th>\n",
       "      <th>CoffeeHouse</th>\n",
       "      <th>CarryAway</th>\n",
       "      <th>RestaurantLessThan20</th>\n",
       "      <th>Restaurant20To50</th>\n",
       "      <th>toCoupon_GEQ5min</th>\n",
       "      <th>toCoupon_GEQ15min</th>\n",
       "      <th>toCoupon_GEQ25min</th>\n",
       "      <th>direction_same</th>\n",
       "      <th>direction_opp</th>\n",
       "      <th>Y</th>\n",
       "    </tr>\n",
       "  </thead>\n",
       "  <tbody>\n",
       "    <tr>\n",
       "      <th>0</th>\n",
       "      <td>No Urgent Place</td>\n",
       "      <td>Alone</td>\n",
       "      <td>Sunny</td>\n",
       "      <td>55</td>\n",
       "      <td>2PM</td>\n",
       "      <td>Restaurant(&lt;20)</td>\n",
       "      <td>1d</td>\n",
       "      <td>Female</td>\n",
       "      <td>21</td>\n",
       "      <td>Unmarried partner</td>\n",
       "      <td>1</td>\n",
       "      <td>Some college - no degree</td>\n",
       "      <td>...</td>\n",
       "      <td>NaN</td>\n",
       "      <td>never</td>\n",
       "      <td>never</td>\n",
       "      <td>NaN</td>\n",
       "      <td>4~8</td>\n",
       "      <td>1~3</td>\n",
       "      <td>1</td>\n",
       "      <td>0</td>\n",
       "      <td>0</td>\n",
       "      <td>0</td>\n",
       "      <td>1</td>\n",
       "      <td>1</td>\n",
       "    </tr>\n",
       "    <tr>\n",
       "      <th>1</th>\n",
       "      <td>No Urgent Place</td>\n",
       "      <td>Friend(s)</td>\n",
       "      <td>Sunny</td>\n",
       "      <td>80</td>\n",
       "      <td>10AM</td>\n",
       "      <td>Coffee House</td>\n",
       "      <td>2h</td>\n",
       "      <td>Female</td>\n",
       "      <td>21</td>\n",
       "      <td>Unmarried partner</td>\n",
       "      <td>1</td>\n",
       "      <td>Some college - no degree</td>\n",
       "      <td>...</td>\n",
       "      <td>NaN</td>\n",
       "      <td>never</td>\n",
       "      <td>never</td>\n",
       "      <td>NaN</td>\n",
       "      <td>4~8</td>\n",
       "      <td>1~3</td>\n",
       "      <td>1</td>\n",
       "      <td>0</td>\n",
       "      <td>0</td>\n",
       "      <td>0</td>\n",
       "      <td>1</td>\n",
       "      <td>0</td>\n",
       "    </tr>\n",
       "    <tr>\n",
       "      <th>2</th>\n",
       "      <td>No Urgent Place</td>\n",
       "      <td>Friend(s)</td>\n",
       "      <td>Sunny</td>\n",
       "      <td>80</td>\n",
       "      <td>10AM</td>\n",
       "      <td>Carry out &amp; Take away</td>\n",
       "      <td>2h</td>\n",
       "      <td>Female</td>\n",
       "      <td>21</td>\n",
       "      <td>Unmarried partner</td>\n",
       "      <td>1</td>\n",
       "      <td>Some college - no degree</td>\n",
       "      <td>...</td>\n",
       "      <td>NaN</td>\n",
       "      <td>never</td>\n",
       "      <td>never</td>\n",
       "      <td>NaN</td>\n",
       "      <td>4~8</td>\n",
       "      <td>1~3</td>\n",
       "      <td>1</td>\n",
       "      <td>1</td>\n",
       "      <td>0</td>\n",
       "      <td>0</td>\n",
       "      <td>1</td>\n",
       "      <td>1</td>\n",
       "    </tr>\n",
       "    <tr>\n",
       "      <th>3</th>\n",
       "      <td>No Urgent Place</td>\n",
       "      <td>Friend(s)</td>\n",
       "      <td>Sunny</td>\n",
       "      <td>80</td>\n",
       "      <td>2PM</td>\n",
       "      <td>Coffee House</td>\n",
       "      <td>2h</td>\n",
       "      <td>Female</td>\n",
       "      <td>21</td>\n",
       "      <td>Unmarried partner</td>\n",
       "      <td>1</td>\n",
       "      <td>Some college - no degree</td>\n",
       "      <td>...</td>\n",
       "      <td>NaN</td>\n",
       "      <td>never</td>\n",
       "      <td>never</td>\n",
       "      <td>NaN</td>\n",
       "      <td>4~8</td>\n",
       "      <td>1~3</td>\n",
       "      <td>1</td>\n",
       "      <td>1</td>\n",
       "      <td>0</td>\n",
       "      <td>0</td>\n",
       "      <td>1</td>\n",
       "      <td>0</td>\n",
       "    </tr>\n",
       "    <tr>\n",
       "      <th>4</th>\n",
       "      <td>No Urgent Place</td>\n",
       "      <td>Friend(s)</td>\n",
       "      <td>Sunny</td>\n",
       "      <td>80</td>\n",
       "      <td>2PM</td>\n",
       "      <td>Coffee House</td>\n",
       "      <td>1d</td>\n",
       "      <td>Female</td>\n",
       "      <td>21</td>\n",
       "      <td>Unmarried partner</td>\n",
       "      <td>1</td>\n",
       "      <td>Some college - no degree</td>\n",
       "      <td>...</td>\n",
       "      <td>NaN</td>\n",
       "      <td>never</td>\n",
       "      <td>never</td>\n",
       "      <td>NaN</td>\n",
       "      <td>4~8</td>\n",
       "      <td>1~3</td>\n",
       "      <td>1</td>\n",
       "      <td>1</td>\n",
       "      <td>0</td>\n",
       "      <td>0</td>\n",
       "      <td>1</td>\n",
       "      <td>0</td>\n",
       "    </tr>\n",
       "  </tbody>\n",
       "</table>\n",
       "<p>5 rows × 26 columns</p>\n",
       "</div>"
      ],
      "text/plain": [
       "       destination  passanger weather  temperature  time  \\\n",
       "0  No Urgent Place      Alone   Sunny           55   2PM   \n",
       "1  No Urgent Place  Friend(s)   Sunny           80  10AM   \n",
       "2  No Urgent Place  Friend(s)   Sunny           80  10AM   \n",
       "3  No Urgent Place  Friend(s)   Sunny           80   2PM   \n",
       "4  No Urgent Place  Friend(s)   Sunny           80   2PM   \n",
       "\n",
       "                  coupon expiration  gender age      maritalStatus  \\\n",
       "0        Restaurant(<20)         1d  Female  21  Unmarried partner   \n",
       "1           Coffee House         2h  Female  21  Unmarried partner   \n",
       "2  Carry out & Take away         2h  Female  21  Unmarried partner   \n",
       "3           Coffee House         2h  Female  21  Unmarried partner   \n",
       "4           Coffee House         1d  Female  21  Unmarried partner   \n",
       "\n",
       "   has_children                 education  ...  car    Bar CoffeeHouse  \\\n",
       "0             1  Some college - no degree  ...  NaN  never       never   \n",
       "1             1  Some college - no degree  ...  NaN  never       never   \n",
       "2             1  Some college - no degree  ...  NaN  never       never   \n",
       "3             1  Some college - no degree  ...  NaN  never       never   \n",
       "4             1  Some college - no degree  ...  NaN  never       never   \n",
       "\n",
       "  CarryAway RestaurantLessThan20 Restaurant20To50 toCoupon_GEQ5min  \\\n",
       "0       NaN                  4~8              1~3                1   \n",
       "1       NaN                  4~8              1~3                1   \n",
       "2       NaN                  4~8              1~3                1   \n",
       "3       NaN                  4~8              1~3                1   \n",
       "4       NaN                  4~8              1~3                1   \n",
       "\n",
       "  toCoupon_GEQ15min  toCoupon_GEQ25min  direction_same  direction_opp  Y  \n",
       "0                 0                  0               0              1  1  \n",
       "1                 0                  0               0              1  0  \n",
       "2                 1                  0               0              1  1  \n",
       "3                 1                  0               0              1  0  \n",
       "4                 1                  0               0              1  0  \n",
       "\n",
       "[5 rows x 26 columns]"
      ]
     },
     "execution_count": 3,
     "metadata": {},
     "output_type": "execute_result"
    }
   ],
   "source": [
    "data.head()"
   ]
  },
  {
   "cell_type": "markdown",
   "metadata": {
    "id": "GcDs78ZH_qRH"
   },
   "source": [
    "2. Investigate the dataset for missing or problematic data."
   ]
  },
  {
   "cell_type": "code",
   "execution_count": 4,
   "metadata": {
    "colab": {
     "base_uri": "https://localhost:8080/"
    },
    "id": "mLMy8Q5XANQ8",
    "outputId": "f5df6d9f-cb83-42be-ed10-e48aecb9f7df"
   },
   "outputs": [
    {
     "name": "stdout",
     "output_type": "stream",
     "text": [
      "Missing Value Counts:\n",
      " destination                 0\n",
      "passanger                   0\n",
      "weather                     0\n",
      "temperature                 0\n",
      "time                        0\n",
      "coupon                      0\n",
      "expiration                  0\n",
      "gender                      0\n",
      "age                         0\n",
      "maritalStatus               0\n",
      "has_children                0\n",
      "education                   0\n",
      "occupation                  0\n",
      "income                      0\n",
      "car                     12576\n",
      "Bar                       107\n",
      "CoffeeHouse               217\n",
      "CarryAway                 151\n",
      "RestaurantLessThan20      130\n",
      "Restaurant20To50          189\n",
      "toCoupon_GEQ5min            0\n",
      "toCoupon_GEQ15min           0\n",
      "toCoupon_GEQ25min           0\n",
      "direction_same              0\n",
      "direction_opp               0\n",
      "Y                           0\n",
      "dtype: int64\n",
      "\n",
      "Missing Value Percentages:\n",
      " destination              0.000000\n",
      "passanger                0.000000\n",
      "weather                  0.000000\n",
      "temperature              0.000000\n",
      "time                     0.000000\n",
      "coupon                   0.000000\n",
      "expiration               0.000000\n",
      "gender                   0.000000\n",
      "age                      0.000000\n",
      "maritalStatus            0.000000\n",
      "has_children             0.000000\n",
      "education                0.000000\n",
      "occupation               0.000000\n",
      "income                   0.000000\n",
      "car                     99.148534\n",
      "Bar                      0.843582\n",
      "CoffeeHouse              1.710817\n",
      "CarryAway                1.190476\n",
      "RestaurantLessThan20     1.024913\n",
      "Restaurant20To50         1.490066\n",
      "toCoupon_GEQ5min         0.000000\n",
      "toCoupon_GEQ15min        0.000000\n",
      "toCoupon_GEQ25min        0.000000\n",
      "direction_same           0.000000\n",
      "direction_opp            0.000000\n",
      "Y                        0.000000\n",
      "dtype: float64\n"
     ]
    }
   ],
   "source": [
    "missing_counts = data.isnull().sum()\n",
    "missing_percentages = (data.isnull().sum() / len(data)) * 100\n",
    "print(\"Missing Value Counts:\\n\", missing_counts)\n",
    "print(\"\\nMissing Value Percentages:\\n\", missing_percentages)"
   ]
  },
  {
   "cell_type": "markdown",
   "metadata": {
    "id": "bSdVSpYB_qRH"
   },
   "source": [
    "3. Decide what to do about your missing data -- drop, replace, other..."
   ]
  },
  {
   "cell_type": "code",
   "execution_count": 5,
   "metadata": {
    "colab": {
     "base_uri": "https://localhost:8080/",
     "height": 400
    },
    "id": "tyvoAC5F_qRI",
    "outputId": "d8d6ef6a-30e9-429e-f421-2233d7e1feca"
   },
   "outputs": [
    {
     "data": {
      "text/html": [
       "<div>\n",
       "<style scoped>\n",
       "    .dataframe tbody tr th:only-of-type {\n",
       "        vertical-align: middle;\n",
       "    }\n",
       "\n",
       "    .dataframe tbody tr th {\n",
       "        vertical-align: top;\n",
       "    }\n",
       "\n",
       "    .dataframe thead th {\n",
       "        text-align: right;\n",
       "    }\n",
       "</style>\n",
       "<table border=\"1\" class=\"dataframe\">\n",
       "  <thead>\n",
       "    <tr style=\"text-align: right;\">\n",
       "      <th></th>\n",
       "      <th>destination</th>\n",
       "      <th>passanger</th>\n",
       "      <th>weather</th>\n",
       "      <th>temperature</th>\n",
       "      <th>time</th>\n",
       "      <th>coupon</th>\n",
       "      <th>expiration</th>\n",
       "      <th>gender</th>\n",
       "      <th>age</th>\n",
       "      <th>maritalStatus</th>\n",
       "      <th>has_children</th>\n",
       "      <th>education</th>\n",
       "      <th>occupation</th>\n",
       "      <th>income</th>\n",
       "      <th>Bar</th>\n",
       "      <th>CoffeeHouse</th>\n",
       "      <th>CarryAway</th>\n",
       "      <th>RestaurantLessThan20</th>\n",
       "      <th>Restaurant20To50</th>\n",
       "      <th>toCoupon_GEQ5min</th>\n",
       "      <th>toCoupon_GEQ15min</th>\n",
       "      <th>toCoupon_GEQ25min</th>\n",
       "      <th>direction_same</th>\n",
       "      <th>direction_opp</th>\n",
       "      <th>Y</th>\n",
       "    </tr>\n",
       "  </thead>\n",
       "  <tbody>\n",
       "    <tr>\n",
       "      <th>0</th>\n",
       "      <td>No Urgent Place</td>\n",
       "      <td>Alone</td>\n",
       "      <td>Sunny</td>\n",
       "      <td>55</td>\n",
       "      <td>2PM</td>\n",
       "      <td>Restaurant(&lt;20)</td>\n",
       "      <td>1d</td>\n",
       "      <td>Female</td>\n",
       "      <td>21</td>\n",
       "      <td>Unmarried partner</td>\n",
       "      <td>1</td>\n",
       "      <td>Some college - no degree</td>\n",
       "      <td>Unemployed</td>\n",
       "      <td>$37500 - $49999</td>\n",
       "      <td>never</td>\n",
       "      <td>never</td>\n",
       "      <td>NaN</td>\n",
       "      <td>4~8</td>\n",
       "      <td>1~3</td>\n",
       "      <td>1</td>\n",
       "      <td>0</td>\n",
       "      <td>0</td>\n",
       "      <td>0</td>\n",
       "      <td>1</td>\n",
       "      <td>1</td>\n",
       "    </tr>\n",
       "    <tr>\n",
       "      <th>1</th>\n",
       "      <td>No Urgent Place</td>\n",
       "      <td>Friend(s)</td>\n",
       "      <td>Sunny</td>\n",
       "      <td>80</td>\n",
       "      <td>10AM</td>\n",
       "      <td>Coffee House</td>\n",
       "      <td>2h</td>\n",
       "      <td>Female</td>\n",
       "      <td>21</td>\n",
       "      <td>Unmarried partner</td>\n",
       "      <td>1</td>\n",
       "      <td>Some college - no degree</td>\n",
       "      <td>Unemployed</td>\n",
       "      <td>$37500 - $49999</td>\n",
       "      <td>never</td>\n",
       "      <td>never</td>\n",
       "      <td>NaN</td>\n",
       "      <td>4~8</td>\n",
       "      <td>1~3</td>\n",
       "      <td>1</td>\n",
       "      <td>0</td>\n",
       "      <td>0</td>\n",
       "      <td>0</td>\n",
       "      <td>1</td>\n",
       "      <td>0</td>\n",
       "    </tr>\n",
       "    <tr>\n",
       "      <th>2</th>\n",
       "      <td>No Urgent Place</td>\n",
       "      <td>Friend(s)</td>\n",
       "      <td>Sunny</td>\n",
       "      <td>80</td>\n",
       "      <td>10AM</td>\n",
       "      <td>Carry out &amp; Take away</td>\n",
       "      <td>2h</td>\n",
       "      <td>Female</td>\n",
       "      <td>21</td>\n",
       "      <td>Unmarried partner</td>\n",
       "      <td>1</td>\n",
       "      <td>Some college - no degree</td>\n",
       "      <td>Unemployed</td>\n",
       "      <td>$37500 - $49999</td>\n",
       "      <td>never</td>\n",
       "      <td>never</td>\n",
       "      <td>NaN</td>\n",
       "      <td>4~8</td>\n",
       "      <td>1~3</td>\n",
       "      <td>1</td>\n",
       "      <td>1</td>\n",
       "      <td>0</td>\n",
       "      <td>0</td>\n",
       "      <td>1</td>\n",
       "      <td>1</td>\n",
       "    </tr>\n",
       "    <tr>\n",
       "      <th>3</th>\n",
       "      <td>No Urgent Place</td>\n",
       "      <td>Friend(s)</td>\n",
       "      <td>Sunny</td>\n",
       "      <td>80</td>\n",
       "      <td>2PM</td>\n",
       "      <td>Coffee House</td>\n",
       "      <td>2h</td>\n",
       "      <td>Female</td>\n",
       "      <td>21</td>\n",
       "      <td>Unmarried partner</td>\n",
       "      <td>1</td>\n",
       "      <td>Some college - no degree</td>\n",
       "      <td>Unemployed</td>\n",
       "      <td>$37500 - $49999</td>\n",
       "      <td>never</td>\n",
       "      <td>never</td>\n",
       "      <td>NaN</td>\n",
       "      <td>4~8</td>\n",
       "      <td>1~3</td>\n",
       "      <td>1</td>\n",
       "      <td>1</td>\n",
       "      <td>0</td>\n",
       "      <td>0</td>\n",
       "      <td>1</td>\n",
       "      <td>0</td>\n",
       "    </tr>\n",
       "    <tr>\n",
       "      <th>4</th>\n",
       "      <td>No Urgent Place</td>\n",
       "      <td>Friend(s)</td>\n",
       "      <td>Sunny</td>\n",
       "      <td>80</td>\n",
       "      <td>2PM</td>\n",
       "      <td>Coffee House</td>\n",
       "      <td>1d</td>\n",
       "      <td>Female</td>\n",
       "      <td>21</td>\n",
       "      <td>Unmarried partner</td>\n",
       "      <td>1</td>\n",
       "      <td>Some college - no degree</td>\n",
       "      <td>Unemployed</td>\n",
       "      <td>$37500 - $49999</td>\n",
       "      <td>never</td>\n",
       "      <td>never</td>\n",
       "      <td>NaN</td>\n",
       "      <td>4~8</td>\n",
       "      <td>1~3</td>\n",
       "      <td>1</td>\n",
       "      <td>1</td>\n",
       "      <td>0</td>\n",
       "      <td>0</td>\n",
       "      <td>1</td>\n",
       "      <td>0</td>\n",
       "    </tr>\n",
       "  </tbody>\n",
       "</table>\n",
       "</div>"
      ],
      "text/plain": [
       "       destination  passanger weather  temperature  time  \\\n",
       "0  No Urgent Place      Alone   Sunny           55   2PM   \n",
       "1  No Urgent Place  Friend(s)   Sunny           80  10AM   \n",
       "2  No Urgent Place  Friend(s)   Sunny           80  10AM   \n",
       "3  No Urgent Place  Friend(s)   Sunny           80   2PM   \n",
       "4  No Urgent Place  Friend(s)   Sunny           80   2PM   \n",
       "\n",
       "                  coupon expiration  gender age      maritalStatus  \\\n",
       "0        Restaurant(<20)         1d  Female  21  Unmarried partner   \n",
       "1           Coffee House         2h  Female  21  Unmarried partner   \n",
       "2  Carry out & Take away         2h  Female  21  Unmarried partner   \n",
       "3           Coffee House         2h  Female  21  Unmarried partner   \n",
       "4           Coffee House         1d  Female  21  Unmarried partner   \n",
       "\n",
       "   has_children                 education  occupation           income    Bar  \\\n",
       "0             1  Some college - no degree  Unemployed  $37500 - $49999  never   \n",
       "1             1  Some college - no degree  Unemployed  $37500 - $49999  never   \n",
       "2             1  Some college - no degree  Unemployed  $37500 - $49999  never   \n",
       "3             1  Some college - no degree  Unemployed  $37500 - $49999  never   \n",
       "4             1  Some college - no degree  Unemployed  $37500 - $49999  never   \n",
       "\n",
       "  CoffeeHouse CarryAway RestaurantLessThan20 Restaurant20To50  \\\n",
       "0       never       NaN                  4~8              1~3   \n",
       "1       never       NaN                  4~8              1~3   \n",
       "2       never       NaN                  4~8              1~3   \n",
       "3       never       NaN                  4~8              1~3   \n",
       "4       never       NaN                  4~8              1~3   \n",
       "\n",
       "   toCoupon_GEQ5min  toCoupon_GEQ15min  toCoupon_GEQ25min  direction_same  \\\n",
       "0                 1                  0                  0               0   \n",
       "1                 1                  0                  0               0   \n",
       "2                 1                  1                  0               0   \n",
       "3                 1                  1                  0               0   \n",
       "4                 1                  1                  0               0   \n",
       "\n",
       "   direction_opp  Y  \n",
       "0              1  1  \n",
       "1              1  0  \n",
       "2              1  1  \n",
       "3              1  0  \n",
       "4              1  0  "
      ]
     },
     "execution_count": 5,
     "metadata": {},
     "output_type": "execute_result"
    }
   ],
   "source": [
    "# The column car seems to be missing values for most rows (99.15% of the rows). It would be safe to drop the column.\n",
    "data = data.drop('car', axis=1)\n",
    "data.head(5)"
   ]
  },
  {
   "cell_type": "code",
   "execution_count": 6,
   "metadata": {
    "colab": {
     "base_uri": "https://localhost:8080/"
    },
    "id": "zEqGrk_u1Ety",
    "outputId": "47af33e0-6ef5-422d-9925-f8633d1d7871"
   },
   "outputs": [
    {
     "data": {
      "text/plain": [
       "(74, 25)"
      ]
     },
     "execution_count": 6,
     "metadata": {},
     "output_type": "execute_result"
    }
   ],
   "source": [
    "# Examine if there are duplicate records\n",
    "duplicate = data[data.duplicated(keep = 'last')]\n",
    "duplicate.shape\n"
   ]
  },
  {
   "cell_type": "code",
   "execution_count": 7,
   "metadata": {
    "colab": {
     "base_uri": "https://localhost:8080/"
    },
    "id": "21uQjo2g1UoT",
    "outputId": "8fe43e96-6047-4f1e-a17c-9343e5a799ba"
   },
   "outputs": [
    {
     "name": "stdout",
     "output_type": "stream",
     "text": [
      "(12610, 25)\n"
     ]
    }
   ],
   "source": [
    "# Remove duplicates\n",
    "data = data.drop_duplicates()\n",
    "print(data.shape)"
   ]
  },
  {
   "cell_type": "code",
   "execution_count": 8,
   "metadata": {
    "id": "hRJuhOcB2qHy"
   },
   "outputs": [],
   "source": [
    "# Using mode imputation for missing values in Bar, CoffeeHouse, CarryAway, RestaurantLessThan20 and Restaurant20To50\n",
    "data['Bar'] = data['Bar'].fillna(data['Bar'].value_counts().index[0])\n",
    "data['CoffeeHouse'] = data['CoffeeHouse'].fillna(data['CoffeeHouse'].value_counts().index[0])\n",
    "data['CarryAway'] = data['CarryAway'].fillna(data['CarryAway'].value_counts().index[0])\n",
    "data['RestaurantLessThan20'] = data['RestaurantLessThan20'].fillna(data['RestaurantLessThan20'].value_counts().index[0])\n",
    "data['Restaurant20To50'] = data['Restaurant20To50'].fillna(data['Restaurant20To50'].value_counts().index[0])"
   ]
  },
  {
   "cell_type": "code",
   "execution_count": 9,
   "metadata": {
    "colab": {
     "base_uri": "https://localhost:8080/"
    },
    "id": "NGuElAGS3jSp",
    "outputId": "0f7146e1-d84b-497e-94b2-09a9c8c7e63d"
   },
   "outputs": [
    {
     "name": "stdout",
     "output_type": "stream",
     "text": [
      "Are there any missing values still in data? False\n"
     ]
    }
   ],
   "source": [
    "# Verify that the missing values were handled correctly\n",
    "print('Are there any missing values still in data?',data.isnull().values.any())"
   ]
  },
  {
   "cell_type": "code",
   "execution_count": 10,
   "metadata": {
    "colab": {
     "base_uri": "https://localhost:8080/"
    },
    "id": "VaNSBGs8Clf0",
    "outputId": "210a012d-3390-47d2-96c8-418ee3efdf4d"
   },
   "outputs": [
    {
     "name": "stdout",
     "output_type": "stream",
     "text": [
      "<class 'pandas.core.frame.DataFrame'>\n",
      "Index: 12610 entries, 0 to 12683\n",
      "Data columns (total 25 columns):\n",
      " #   Column                Non-Null Count  Dtype \n",
      "---  ------                --------------  ----- \n",
      " 0   destination           12610 non-null  object\n",
      " 1   passanger             12610 non-null  object\n",
      " 2   weather               12610 non-null  object\n",
      " 3   temperature           12610 non-null  int64 \n",
      " 4   time                  12610 non-null  object\n",
      " 5   coupon                12610 non-null  object\n",
      " 6   expiration            12610 non-null  object\n",
      " 7   gender                12610 non-null  object\n",
      " 8   age                   12610 non-null  object\n",
      " 9   maritalStatus         12610 non-null  object\n",
      " 10  has_children          12610 non-null  int64 \n",
      " 11  education             12610 non-null  object\n",
      " 12  occupation            12610 non-null  object\n",
      " 13  income                12610 non-null  object\n",
      " 14  Bar                   12610 non-null  object\n",
      " 15  CoffeeHouse           12610 non-null  object\n",
      " 16  CarryAway             12610 non-null  object\n",
      " 17  RestaurantLessThan20  12610 non-null  object\n",
      " 18  Restaurant20To50      12610 non-null  object\n",
      " 19  toCoupon_GEQ5min      12610 non-null  int64 \n",
      " 20  toCoupon_GEQ15min     12610 non-null  int64 \n",
      " 21  toCoupon_GEQ25min     12610 non-null  int64 \n",
      " 22  direction_same        12610 non-null  int64 \n",
      " 23  direction_opp         12610 non-null  int64 \n",
      " 24  Y                     12610 non-null  int64 \n",
      "dtypes: int64(8), object(17)\n",
      "memory usage: 2.5+ MB\n"
     ]
    }
   ],
   "source": [
    "# Convert categorical columns in the dataframe to numeric.\n",
    "\n",
    "# To achieve this, first step is to determine which columns in the DataFrame are of Dtype \"object\"\n",
    "data.info()"
   ]
  },
  {
   "cell_type": "code",
   "execution_count": 11,
   "metadata": {
    "colab": {
     "base_uri": "https://localhost:8080/"
    },
    "id": "ab7F7yIFGEN4",
    "outputId": "696989a4-0f05-4625-c641-5d5222bf4d53"
   },
   "outputs": [
    {
     "name": "stdout",
     "output_type": "stream",
     "text": [
      "Column: destination\n",
      "Number of unique values: 3\n",
      "Unique values: ['No Urgent Place' 'Home' 'Work']\n",
      "____________________________________________________________________________________________________\n",
      "\n",
      "Column: passanger\n",
      "Number of unique values: 4\n",
      "Unique values: ['Alone' 'Friend(s)' 'Kid(s)' 'Partner']\n",
      "____________________________________________________________________________________________________\n",
      "\n",
      "Column: weather\n",
      "Number of unique values: 3\n",
      "Unique values: ['Sunny' 'Rainy' 'Snowy']\n",
      "____________________________________________________________________________________________________\n",
      "\n",
      "Column: time\n",
      "Number of unique values: 5\n",
      "Unique values: ['2PM' '10AM' '6PM' '7AM' '10PM']\n",
      "____________________________________________________________________________________________________\n",
      "\n",
      "Column: coupon\n",
      "Number of unique values: 5\n",
      "Unique values: ['Restaurant(<20)' 'Coffee House' 'Carry out & Take away' 'Bar'\n",
      " 'Restaurant(20-50)']\n",
      "____________________________________________________________________________________________________\n",
      "\n",
      "Column: expiration\n",
      "Number of unique values: 2\n",
      "Unique values: ['1d' '2h']\n",
      "____________________________________________________________________________________________________\n",
      "\n",
      "Column: gender\n",
      "Number of unique values: 2\n",
      "Unique values: ['Female' 'Male']\n",
      "____________________________________________________________________________________________________\n",
      "\n",
      "Column: age\n",
      "Number of unique values: 8\n",
      "Unique values: ['21' '46' '26' '31' '41' '50plus' '36' 'below21']\n",
      "____________________________________________________________________________________________________\n",
      "\n",
      "Column: maritalStatus\n",
      "Number of unique values: 5\n",
      "Unique values: ['Unmarried partner' 'Single' 'Married partner' 'Divorced' 'Widowed']\n",
      "____________________________________________________________________________________________________\n",
      "\n",
      "Column: education\n",
      "Number of unique values: 6\n",
      "Unique values: ['Some college - no degree' 'Bachelors degree' 'Associates degree'\n",
      " 'High School Graduate' 'Graduate degree (Masters or Doctorate)'\n",
      " 'Some High School']\n",
      "____________________________________________________________________________________________________\n",
      "\n",
      "Column: occupation\n",
      "Number of unique values: 25\n",
      "Unique values: ['Unemployed' 'Architecture & Engineering' 'Student'\n",
      " 'Education&Training&Library' 'Healthcare Support'\n",
      " 'Healthcare Practitioners & Technical' 'Sales & Related' 'Management'\n",
      " 'Arts Design Entertainment Sports & Media' 'Computer & Mathematical'\n",
      " 'Life Physical Social Science' 'Personal Care & Service'\n",
      " 'Community & Social Services' 'Office & Administrative Support'\n",
      " 'Construction & Extraction' 'Legal' 'Retired'\n",
      " 'Installation Maintenance & Repair' 'Transportation & Material Moving'\n",
      " 'Business & Financial' 'Protective Service'\n",
      " 'Food Preparation & Serving Related' 'Production Occupations'\n",
      " 'Building & Grounds Cleaning & Maintenance' 'Farming Fishing & Forestry']\n",
      "____________________________________________________________________________________________________\n",
      "\n",
      "Column: income\n",
      "Number of unique values: 9\n",
      "Unique values: ['$37500 - $49999' '$62500 - $74999' '$12500 - $24999' '$75000 - $87499'\n",
      " '$50000 - $62499' '$25000 - $37499' '$100000 or More' '$87500 - $99999'\n",
      " 'Less than $12500']\n",
      "____________________________________________________________________________________________________\n",
      "\n",
      "Column: Bar\n",
      "Number of unique values: 5\n",
      "Unique values: ['never' 'less1' '1~3' 'gt8' '4~8']\n",
      "____________________________________________________________________________________________________\n",
      "\n",
      "Column: CoffeeHouse\n",
      "Number of unique values: 5\n",
      "Unique values: ['never' 'less1' '4~8' '1~3' 'gt8']\n",
      "____________________________________________________________________________________________________\n",
      "\n",
      "Column: CarryAway\n",
      "Number of unique values: 5\n",
      "Unique values: ['1~3' '4~8' 'gt8' 'less1' 'never']\n",
      "____________________________________________________________________________________________________\n",
      "\n",
      "Column: RestaurantLessThan20\n",
      "Number of unique values: 5\n",
      "Unique values: ['4~8' '1~3' 'less1' 'gt8' 'never']\n",
      "____________________________________________________________________________________________________\n",
      "\n",
      "Column: Restaurant20To50\n",
      "Number of unique values: 5\n",
      "Unique values: ['1~3' 'less1' 'never' 'gt8' '4~8']\n",
      "____________________________________________________________________________________________________\n",
      "\n"
     ]
    }
   ],
   "source": [
    "# Examine the unique values in each categorical column to understand their nature and decide on next steps\n",
    "categorical_cols = data.select_dtypes(include=['object', 'category']).columns\n",
    "\n",
    "for col in categorical_cols:\n",
    "    print(f\"Column: {col}\")\n",
    "    print(f\"Number of unique values: {data[col].nunique()}\")\n",
    "    print(f\"Unique values: {data[col].unique()}\")\n",
    "    print(\"_\" * 100)\n",
    "    print()"
   ]
  },
  {
   "cell_type": "code",
   "execution_count": 12,
   "metadata": {
    "id": "gSskrVvkL_Cm"
   },
   "outputs": [],
   "source": [
    "# Decisions on encoding strategies made examining unique values and manual inspection of the dataset using Excel:\n",
    "\n",
    "# Columns with no clear order and unique values - One-Hot Encoding - destination, passanger, weather, coupon, gender, maritalStatus, occupation\n",
    "\n",
    "# Columns with a clear order/ranking - Ordinal Encoding:\n",
    "\n",
    "# time (10AM < 2PM < 6PM < 7AM < 10PM - assuming 7AM is the start of the day cycle)\n",
    "# expiration (2h < 1d)\n",
    "# age (below 21 < 21 < 26 < ... < 50+)\n",
    "# education (Some High School < High School < Some college < Associates < Bachelors < Graduate)\n",
    "# income (Less than $12500 < $12500-$24999 < ...)\n",
    "# Bar (never < less1 < 1~3 < 4~8 < gt8) --> NaN handling needed\n",
    "# CoffeeHouse (never < less1 < 1~3 < 4~8 < gt8) --> NaN handling needed\n",
    "# CarryAway (never < less1 < 1~3 < 4~8 < gt8) --> NaN handling needed\n",
    "# RestaurantLessThan20 (never < less1 < 1~3 < 4~8 < gt8) --> NaN handling needed\n",
    "# Restaurant20To50 (never < less1 < 1~3 < 4~8 < gt8) --> NaN handling needed\n",
    "\n",
    "# Legend: less1 - less than 1, gt8 - greater than 8\n",
    "\n",
    "# Apply encoding to the dataframe and create a new dataframe\n",
    "\n",
    "# Handle missing values in ordinal columns - we can safely assume the value to be \"never\" if it's missing\n",
    "ordinal_cols_with_nan = ['Bar', 'CoffeeHouse', 'CarryAway', 'RestaurantLessThan20', 'Restaurant20To50']\n",
    "for col in ordinal_cols_with_nan:\n",
    "    data[col] = data[col].fillna('never')\n",
    "\n",
    "# Define ordinal mapping based on unique values observed above\n",
    "ordinal_mapping = {\n",
    "    'time': {'7AM': 0, '10AM': 1, '2PM': 2, '6PM': 3, '10PM': 4},\n",
    "    'expiration': {'2h': 0, '1d': 1},\n",
    "    'age': {'below21': 0, '21': 1, '26': 2, '31': 3, '36': 4, '41': 5, '46': 6, '50plus': 7},\n",
    "    'education': {'Some High School': 0, 'High School Graduate': 1, 'Some college - no degree': 2, 'Associates degree': 3, 'Bachelors degree': 4, 'Graduate degree (Masters or Doctorate)': 5, 'Some High School':0},\n",
    "    'income': {'Less than $12500': 0, '$12500 - $24999': 1, '$25000 - $37499': 2, '$37500 - $49999': 3, '$50000 - $62499': 4, '$62500 - $74999': 5, '$75000 - $87499': 6, '$87500 - $99999': 7, '$100000 or More': 8},\n",
    "    'Bar': {'never': 0, 'less1': 1, '1~3': 2, '4~8': 3, 'gt8': 4},\n",
    "    'CoffeeHouse': {'never': 0, 'less1': 1, '1~3': 2, '4~8': 3, 'gt8': 4},\n",
    "    'CarryAway': {'never': 0, 'less1': 1, '1~3': 2, '4~8': 3, 'gt8': 4},\n",
    "    'RestaurantLessThan20': {'never': 0, 'less1': 1, '1~3': 2, '4~8': 3, 'gt8': 4},\n",
    "    'Restaurant20To50': {'never': 0, 'less1': 1, '1~3': 2, '4~8': 3, 'gt8': 4}\n",
    "}\n",
    "\n",
    "# Apply Ordinal Encoding\n",
    "for col, mapping in ordinal_mapping.items():\n",
    "    data[col] = data[col].map(mapping)\n",
    "\n",
    "# Apply One-Hot Encoding\n",
    "one_hot_cols = ['destination', 'passanger', 'weather', 'coupon', 'gender', 'maritalStatus', 'occupation']\n",
    "data_encoded = pd.get_dummies(data, columns=one_hot_cols, drop_first=True)"
   ]
  },
  {
   "cell_type": "code",
   "execution_count": 13,
   "metadata": {
    "colab": {
     "base_uri": "https://localhost:8080/",
     "height": 290
    },
    "id": "S1rfWlNg8z6B",
    "outputId": "5321f888-805b-46a1-bf88-b050387dad72"
   },
   "outputs": [
    {
     "data": {
      "text/html": [
       "<div>\n",
       "<style scoped>\n",
       "    .dataframe tbody tr th:only-of-type {\n",
       "        vertical-align: middle;\n",
       "    }\n",
       "\n",
       "    .dataframe tbody tr th {\n",
       "        vertical-align: top;\n",
       "    }\n",
       "\n",
       "    .dataframe thead th {\n",
       "        text-align: right;\n",
       "    }\n",
       "</style>\n",
       "<table border=\"1\" class=\"dataframe\">\n",
       "  <thead>\n",
       "    <tr style=\"text-align: right;\">\n",
       "      <th></th>\n",
       "      <th>temperature</th>\n",
       "      <th>time</th>\n",
       "      <th>expiration</th>\n",
       "      <th>age</th>\n",
       "      <th>has_children</th>\n",
       "      <th>education</th>\n",
       "      <th>income</th>\n",
       "      <th>Bar</th>\n",
       "      <th>CoffeeHouse</th>\n",
       "      <th>CarryAway</th>\n",
       "      <th>RestaurantLessThan20</th>\n",
       "      <th>Restaurant20To50</th>\n",
       "      <th>...</th>\n",
       "      <th>occupation_Legal</th>\n",
       "      <th>occupation_Life Physical Social Science</th>\n",
       "      <th>occupation_Management</th>\n",
       "      <th>occupation_Office &amp; Administrative Support</th>\n",
       "      <th>occupation_Personal Care &amp; Service</th>\n",
       "      <th>occupation_Production Occupations</th>\n",
       "      <th>occupation_Protective Service</th>\n",
       "      <th>occupation_Retired</th>\n",
       "      <th>occupation_Sales &amp; Related</th>\n",
       "      <th>occupation_Student</th>\n",
       "      <th>occupation_Transportation &amp; Material Moving</th>\n",
       "      <th>occupation_Unemployed</th>\n",
       "    </tr>\n",
       "  </thead>\n",
       "  <tbody>\n",
       "    <tr>\n",
       "      <th>0</th>\n",
       "      <td>55</td>\n",
       "      <td>2</td>\n",
       "      <td>1</td>\n",
       "      <td>1</td>\n",
       "      <td>1</td>\n",
       "      <td>2</td>\n",
       "      <td>3</td>\n",
       "      <td>0</td>\n",
       "      <td>0</td>\n",
       "      <td>2</td>\n",
       "      <td>3</td>\n",
       "      <td>2</td>\n",
       "      <td>...</td>\n",
       "      <td>False</td>\n",
       "      <td>False</td>\n",
       "      <td>False</td>\n",
       "      <td>False</td>\n",
       "      <td>False</td>\n",
       "      <td>False</td>\n",
       "      <td>False</td>\n",
       "      <td>False</td>\n",
       "      <td>False</td>\n",
       "      <td>False</td>\n",
       "      <td>False</td>\n",
       "      <td>True</td>\n",
       "    </tr>\n",
       "    <tr>\n",
       "      <th>1</th>\n",
       "      <td>80</td>\n",
       "      <td>1</td>\n",
       "      <td>0</td>\n",
       "      <td>1</td>\n",
       "      <td>1</td>\n",
       "      <td>2</td>\n",
       "      <td>3</td>\n",
       "      <td>0</td>\n",
       "      <td>0</td>\n",
       "      <td>2</td>\n",
       "      <td>3</td>\n",
       "      <td>2</td>\n",
       "      <td>...</td>\n",
       "      <td>False</td>\n",
       "      <td>False</td>\n",
       "      <td>False</td>\n",
       "      <td>False</td>\n",
       "      <td>False</td>\n",
       "      <td>False</td>\n",
       "      <td>False</td>\n",
       "      <td>False</td>\n",
       "      <td>False</td>\n",
       "      <td>False</td>\n",
       "      <td>False</td>\n",
       "      <td>True</td>\n",
       "    </tr>\n",
       "    <tr>\n",
       "      <th>2</th>\n",
       "      <td>80</td>\n",
       "      <td>1</td>\n",
       "      <td>0</td>\n",
       "      <td>1</td>\n",
       "      <td>1</td>\n",
       "      <td>2</td>\n",
       "      <td>3</td>\n",
       "      <td>0</td>\n",
       "      <td>0</td>\n",
       "      <td>2</td>\n",
       "      <td>3</td>\n",
       "      <td>2</td>\n",
       "      <td>...</td>\n",
       "      <td>False</td>\n",
       "      <td>False</td>\n",
       "      <td>False</td>\n",
       "      <td>False</td>\n",
       "      <td>False</td>\n",
       "      <td>False</td>\n",
       "      <td>False</td>\n",
       "      <td>False</td>\n",
       "      <td>False</td>\n",
       "      <td>False</td>\n",
       "      <td>False</td>\n",
       "      <td>True</td>\n",
       "    </tr>\n",
       "    <tr>\n",
       "      <th>3</th>\n",
       "      <td>80</td>\n",
       "      <td>2</td>\n",
       "      <td>0</td>\n",
       "      <td>1</td>\n",
       "      <td>1</td>\n",
       "      <td>2</td>\n",
       "      <td>3</td>\n",
       "      <td>0</td>\n",
       "      <td>0</td>\n",
       "      <td>2</td>\n",
       "      <td>3</td>\n",
       "      <td>2</td>\n",
       "      <td>...</td>\n",
       "      <td>False</td>\n",
       "      <td>False</td>\n",
       "      <td>False</td>\n",
       "      <td>False</td>\n",
       "      <td>False</td>\n",
       "      <td>False</td>\n",
       "      <td>False</td>\n",
       "      <td>False</td>\n",
       "      <td>False</td>\n",
       "      <td>False</td>\n",
       "      <td>False</td>\n",
       "      <td>True</td>\n",
       "    </tr>\n",
       "    <tr>\n",
       "      <th>4</th>\n",
       "      <td>80</td>\n",
       "      <td>2</td>\n",
       "      <td>1</td>\n",
       "      <td>1</td>\n",
       "      <td>1</td>\n",
       "      <td>2</td>\n",
       "      <td>3</td>\n",
       "      <td>0</td>\n",
       "      <td>0</td>\n",
       "      <td>2</td>\n",
       "      <td>3</td>\n",
       "      <td>2</td>\n",
       "      <td>...</td>\n",
       "      <td>False</td>\n",
       "      <td>False</td>\n",
       "      <td>False</td>\n",
       "      <td>False</td>\n",
       "      <td>False</td>\n",
       "      <td>False</td>\n",
       "      <td>False</td>\n",
       "      <td>False</td>\n",
       "      <td>False</td>\n",
       "      <td>False</td>\n",
       "      <td>False</td>\n",
       "      <td>True</td>\n",
       "    </tr>\n",
       "  </tbody>\n",
       "</table>\n",
       "<p>5 rows × 58 columns</p>\n",
       "</div>"
      ],
      "text/plain": [
       "   temperature  time  expiration  age  has_children  education  income  Bar  \\\n",
       "0           55     2           1    1             1          2       3    0   \n",
       "1           80     1           0    1             1          2       3    0   \n",
       "2           80     1           0    1             1          2       3    0   \n",
       "3           80     2           0    1             1          2       3    0   \n",
       "4           80     2           1    1             1          2       3    0   \n",
       "\n",
       "   CoffeeHouse  CarryAway  RestaurantLessThan20  Restaurant20To50  ...  \\\n",
       "0            0          2                     3                 2  ...   \n",
       "1            0          2                     3                 2  ...   \n",
       "2            0          2                     3                 2  ...   \n",
       "3            0          2                     3                 2  ...   \n",
       "4            0          2                     3                 2  ...   \n",
       "\n",
       "   occupation_Legal  occupation_Life Physical Social Science  \\\n",
       "0             False                                    False   \n",
       "1             False                                    False   \n",
       "2             False                                    False   \n",
       "3             False                                    False   \n",
       "4             False                                    False   \n",
       "\n",
       "   occupation_Management  occupation_Office & Administrative Support  \\\n",
       "0                  False                                       False   \n",
       "1                  False                                       False   \n",
       "2                  False                                       False   \n",
       "3                  False                                       False   \n",
       "4                  False                                       False   \n",
       "\n",
       "   occupation_Personal Care & Service  occupation_Production Occupations  \\\n",
       "0                               False                              False   \n",
       "1                               False                              False   \n",
       "2                               False                              False   \n",
       "3                               False                              False   \n",
       "4                               False                              False   \n",
       "\n",
       "   occupation_Protective Service  occupation_Retired  \\\n",
       "0                          False               False   \n",
       "1                          False               False   \n",
       "2                          False               False   \n",
       "3                          False               False   \n",
       "4                          False               False   \n",
       "\n",
       "   occupation_Sales & Related  occupation_Student  \\\n",
       "0                       False               False   \n",
       "1                       False               False   \n",
       "2                       False               False   \n",
       "3                       False               False   \n",
       "4                       False               False   \n",
       "\n",
       "   occupation_Transportation & Material Moving  occupation_Unemployed  \n",
       "0                                        False                   True  \n",
       "1                                        False                   True  \n",
       "2                                        False                   True  \n",
       "3                                        False                   True  \n",
       "4                                        False                   True  \n",
       "\n",
       "[5 rows x 58 columns]"
      ]
     },
     "execution_count": 13,
     "metadata": {},
     "output_type": "execute_result"
    }
   ],
   "source": [
    "# Verify encoded data\n",
    "data_encoded.head(5)"
   ]
  },
  {
   "cell_type": "code",
   "execution_count": 14,
   "metadata": {
    "colab": {
     "base_uri": "https://localhost:8080/"
    },
    "id": "M6kDQDk1OcW7",
    "outputId": "201b9ee7-dd31-48b8-935b-7ac28a8e4c66"
   },
   "outputs": [
    {
     "name": "stdout",
     "output_type": "stream",
     "text": [
      "<class 'pandas.core.frame.DataFrame'>\n",
      "Index: 12610 entries, 0 to 12683\n",
      "Data columns (total 58 columns):\n",
      " #   Column                                                Non-Null Count  Dtype\n",
      "---  ------                                                --------------  -----\n",
      " 0   temperature                                           12610 non-null  int64\n",
      " 1   time                                                  12610 non-null  int64\n",
      " 2   expiration                                            12610 non-null  int64\n",
      " 3   age                                                   12610 non-null  int64\n",
      " 4   has_children                                          12610 non-null  int64\n",
      " 5   education                                             12610 non-null  int64\n",
      " 6   income                                                12610 non-null  int64\n",
      " 7   Bar                                                   12610 non-null  int64\n",
      " 8   CoffeeHouse                                           12610 non-null  int64\n",
      " 9   CarryAway                                             12610 non-null  int64\n",
      " 10  RestaurantLessThan20                                  12610 non-null  int64\n",
      " 11  Restaurant20To50                                      12610 non-null  int64\n",
      " 12  toCoupon_GEQ5min                                      12610 non-null  int64\n",
      " 13  toCoupon_GEQ15min                                     12610 non-null  int64\n",
      " 14  toCoupon_GEQ25min                                     12610 non-null  int64\n",
      " 15  direction_same                                        12610 non-null  int64\n",
      " 16  direction_opp                                         12610 non-null  int64\n",
      " 17  Y                                                     12610 non-null  int64\n",
      " 18  destination_No Urgent Place                           12610 non-null  bool \n",
      " 19  destination_Work                                      12610 non-null  bool \n",
      " 20  passanger_Friend(s)                                   12610 non-null  bool \n",
      " 21  passanger_Kid(s)                                      12610 non-null  bool \n",
      " 22  passanger_Partner                                     12610 non-null  bool \n",
      " 23  weather_Snowy                                         12610 non-null  bool \n",
      " 24  weather_Sunny                                         12610 non-null  bool \n",
      " 25  coupon_Carry out & Take away                          12610 non-null  bool \n",
      " 26  coupon_Coffee House                                   12610 non-null  bool \n",
      " 27  coupon_Restaurant(20-50)                              12610 non-null  bool \n",
      " 28  coupon_Restaurant(<20)                                12610 non-null  bool \n",
      " 29  gender_Male                                           12610 non-null  bool \n",
      " 30  maritalStatus_Married partner                         12610 non-null  bool \n",
      " 31  maritalStatus_Single                                  12610 non-null  bool \n",
      " 32  maritalStatus_Unmarried partner                       12610 non-null  bool \n",
      " 33  maritalStatus_Widowed                                 12610 non-null  bool \n",
      " 34  occupation_Arts Design Entertainment Sports & Media   12610 non-null  bool \n",
      " 35  occupation_Building & Grounds Cleaning & Maintenance  12610 non-null  bool \n",
      " 36  occupation_Business & Financial                       12610 non-null  bool \n",
      " 37  occupation_Community & Social Services                12610 non-null  bool \n",
      " 38  occupation_Computer & Mathematical                    12610 non-null  bool \n",
      " 39  occupation_Construction & Extraction                  12610 non-null  bool \n",
      " 40  occupation_Education&Training&Library                 12610 non-null  bool \n",
      " 41  occupation_Farming Fishing & Forestry                 12610 non-null  bool \n",
      " 42  occupation_Food Preparation & Serving Related         12610 non-null  bool \n",
      " 43  occupation_Healthcare Practitioners & Technical       12610 non-null  bool \n",
      " 44  occupation_Healthcare Support                         12610 non-null  bool \n",
      " 45  occupation_Installation Maintenance & Repair          12610 non-null  bool \n",
      " 46  occupation_Legal                                      12610 non-null  bool \n",
      " 47  occupation_Life Physical Social Science               12610 non-null  bool \n",
      " 48  occupation_Management                                 12610 non-null  bool \n",
      " 49  occupation_Office & Administrative Support            12610 non-null  bool \n",
      " 50  occupation_Personal Care & Service                    12610 non-null  bool \n",
      " 51  occupation_Production Occupations                     12610 non-null  bool \n",
      " 52  occupation_Protective Service                         12610 non-null  bool \n",
      " 53  occupation_Retired                                    12610 non-null  bool \n",
      " 54  occupation_Sales & Related                            12610 non-null  bool \n",
      " 55  occupation_Student                                    12610 non-null  bool \n",
      " 56  occupation_Transportation & Material Moving           12610 non-null  bool \n",
      " 57  occupation_Unemployed                                 12610 non-null  bool \n",
      "dtypes: bool(40), int64(18)\n",
      "memory usage: 2.3 MB\n"
     ]
    }
   ],
   "source": [
    "# Verify data types after conversion\n",
    "data_encoded.info()"
   ]
  },
  {
   "cell_type": "markdown",
   "metadata": {
    "id": "YE6oJbXd_qRI"
   },
   "source": [
    "4. What proportion of the total observations chose to accept the coupon?\n",
    "\n"
   ]
  },
  {
   "cell_type": "code",
   "execution_count": 15,
   "metadata": {
    "colab": {
     "base_uri": "https://localhost:8080/"
    },
    "id": "95e15b85",
    "outputId": "4036ae5d-19c6-4de0-d9b4-e6fff54dc04e"
   },
   "outputs": [
    {
     "name": "stdout",
     "output_type": "stream",
     "text": [
      "The proportion of the total observations in which users chose to accept the coupon is: 0.5676\n"
     ]
    }
   ],
   "source": [
    "# Total number of observations\n",
    "num_records = data_encoded.shape[0]\n",
    "\n",
    "# Number of observations where coupon was accepted\n",
    "num_accepted = data_encoded['Y'].sum()\n",
    "\n",
    "# Proportion of the total observations in which users chose to accept the coupon\n",
    "coupon_acceptance_proportion = num_accepted / num_records\n",
    "\n",
    "#Print the results\n",
    "print(f\"The proportion of the total observations in which users chose to accept the coupon is: {coupon_acceptance_proportion:.4f}\")"
   ]
  },
  {
   "cell_type": "markdown",
   "metadata": {
    "id": "vflz0DoE_qRI"
   },
   "source": [
    "5. Use a bar plot to visualize the `coupon` column."
   ]
  },
  {
   "cell_type": "code",
   "execution_count": 16,
   "metadata": {
    "colab": {
     "base_uri": "https://localhost:8080/",
     "height": 601
    },
    "id": "dHFh3E45_qRI",
    "outputId": "12804119-694b-4e9f-f5a0-142cfa1cf377"
   },
   "outputs": [
    {
     "data": {
      "image/png": "[encoded data removed]",
      "text/plain": [
       "<Figure size 800x600 with 1 Axes>"
      ]
     },
     "metadata": {},
     "output_type": "display_data"
    }
   ],
   "source": [
    "coupon_counts = data['coupon'].value_counts()\n",
    "plt.figure(figsize=(8, 6))\n",
    "sns.barplot(x=coupon_counts.index, y=coupon_counts.values)\n",
    "plt.xticks(rotation=45)\n",
    "plt.title('Distribution of Coupon Types')\n",
    "plt.xlabel('Coupon Type')\n",
    "plt.ylabel('Coupon Count')\n",
    "plt.tight_layout()\n",
    "plt.show()"
   ]
  },
  {
   "cell_type": "markdown",
   "metadata": {
    "id": "Qw4lCyx2_qRI"
   },
   "source": [
    "6. Use a histogram to visualize the temperature column."
   ]
  },
  {
   "cell_type": "code",
   "execution_count": 17,
   "metadata": {
    "colab": {
     "base_uri": "https://localhost:8080/",
     "height": 454
    },
    "id": "Yg9Anv71_qRI",
    "outputId": "8fce52af-1ba9-41ac-9538-7f3e10d63c44"
   },
   "outputs": [
    {
     "data": {
      "image/png": "[encoded data removed]",
      "text/plain": [
       "<Figure size 750x450 with 1 Axes>"
      ]
     },
     "metadata": {},
     "output_type": "display_data"
    }
   ],
   "source": [
    "plt.hist(data['temperature'], bins=10, edgecolor='black')\n",
    "plt.title('Temperature Histogram')\n",
    "plt.xlabel('Temperature values')\n",
    "plt.ylabel('Frequency')\n",
    "plt.show()"
   ]
  },
  {
   "cell_type": "markdown",
   "metadata": {
    "id": "FupfgeJk_qRJ"
   },
   "source": [
    "**Investigating the Bar Coupons**\n",
    "\n",
    "Now, we will lead you through an exploration of just the bar related coupons.  \n",
    "\n",
    "1. Create a new `DataFrame` that contains just the bar coupons.\n"
   ]
  },
  {
   "cell_type": "code",
   "execution_count": 18,
   "metadata": {
    "id": "tMBlWuGq_qRJ"
   },
   "outputs": [],
   "source": [
    "df_bar = data_encoded[data_encoded['Bar'] > 0.0]"
   ]
  },
  {
   "cell_type": "markdown",
   "metadata": {
    "id": "8ue6uCqf_qRJ"
   },
   "source": [
    "2. What proportion of bar coupons were accepted?\n"
   ]
  },
  {
   "cell_type": "code",
   "execution_count": 19,
   "metadata": {
    "colab": {
     "base_uri": "https://localhost:8080/"
    },
    "id": "hSdte8Mi_qRK",
    "outputId": "0aa0f087-1ee3-48ec-b1a8-bb4c42a03067"
   },
   "outputs": [
    {
     "name": "stdout",
     "output_type": "stream",
     "text": [
      "The proportion of bar coupons that were accepted is: 0.5940\n"
     ]
    }
   ],
   "source": [
    "# Total number of observations related to bar coupons\n",
    "num_records = df_bar.shape[0]\n",
    "\n",
    "# Number of observations where bar coupon was accepted\n",
    "num_accepted = df_bar['Y'].sum()\n",
    "\n",
    "# Proportion of the total observations in which users chose to accept the coupon\n",
    "bar_cpn_acceptance_proportion = num_accepted / num_records\n",
    "\n",
    "print(f\"The proportion of bar coupons that were accepted is: {bar_cpn_acceptance_proportion:.4f}\")\n"
   ]
  },
  {
   "cell_type": "markdown",
   "metadata": {
    "id": "85nA_iEi_qRK"
   },
   "source": [
    "3. Compare the acceptance rate between those who went to a bar 3 or fewer times a month to those who went more.\n"
   ]
  },
  {
   "cell_type": "code",
   "execution_count": 20,
   "metadata": {
    "colab": {
     "base_uri": "https://localhost:8080/"
    },
    "id": "LBOrN-XM_qRK",
    "outputId": "c63b0edb-1fda-4887-d2f1-b4dbb7f868ba"
   },
   "outputs": [
    {
     "name": "stdout",
     "output_type": "stream",
     "text": [
      "The proportion of bar coupons that were accepted when users went to bar 3 or fewer times a month is: 0.5673\n"
     ]
    }
   ],
   "source": [
    "df_bar_3_or_fewer = data_encoded[data_encoded['Bar'] <= 3.0]\n",
    "\n",
    "# Total number of observations related to bar coupons when they went to bar 3 or fewer times a month\n",
    "num_records_3_or_fewer = df_bar_3_or_fewer.shape[0]\n",
    "\n",
    "# Number of observations where bar coupon was accepted when they went to bar 3 or fewer times a month\n",
    "num_accepted_3_or_fewer = df_bar_3_or_fewer['Y'].sum()\n",
    "\n",
    "# Proportion of the total observations in which users chose to accept the coupon when they went to bar 3 or fewer times a month\n",
    "bar_cpn_acc_proportion_3_or_fewer = num_accepted_3_or_fewer / num_records_3_or_fewer\n",
    "\n",
    "print(f\"The proportion of bar coupons that were accepted when users went to bar 3 or fewer times a month is: {bar_cpn_acc_proportion_3_or_fewer:.4f}\")\n"
   ]
  },
  {
   "cell_type": "code",
   "execution_count": 21,
   "metadata": {
    "colab": {
     "base_uri": "https://localhost:8080/"
    },
    "id": "psbi-tRssRAZ",
    "outputId": "9991ee8d-4e43-43ca-efcf-9fa028730148"
   },
   "outputs": [
    {
     "name": "stdout",
     "output_type": "stream",
     "text": [
      "The proportion of bar coupons that were accepted when users went to bar 4 or more times a month is: 0.5776\n"
     ]
    }
   ],
   "source": [
    "df_bar_4_or_more = data_encoded[data_encoded['Bar'] > 3.0]\n",
    "\n",
    "# Total number of observations related to bar coupons when they went to bar more than 3 times a month\n",
    "num_records_4_or_more = df_bar_4_or_more.shape[0]\n",
    "\n",
    "# Number of observations where bar coupon was accepted when they went to bar 3 or fewer times a month\n",
    "num_accepted_4_or_more = df_bar_4_or_more['Y'].sum()\n",
    "\n",
    "# Proportion of the total observations in which users chose to accept the coupon when they went to bar 3 or fewer times a month\n",
    "bar_cpn_acc_proportion_4_or_more = num_accepted_4_or_more / num_records_4_or_more\n",
    "\n",
    "print(f\"The proportion of bar coupons that were accepted when users went to bar 4 or more times a month is: {bar_cpn_acc_proportion_4_or_more:.4f}\")"
   ]
  },
  {
   "cell_type": "markdown",
   "metadata": {
    "id": "RBgcQwH4_qRK"
   },
   "source": [
    "4. Compare the acceptance rate between drivers who go to a bar more than once a month and are over the age of 25 to the all others.  Is there a difference?\n"
   ]
  },
  {
   "cell_type": "code",
   "execution_count": 22,
   "metadata": {
    "colab": {
     "base_uri": "https://localhost:8080/"
    },
    "id": "bf28bbeX_qRK",
    "outputId": "887cffdb-192e-4a4b-85ec-1f1973d03fa5"
   },
   "outputs": [
    {
     "name": "stdout",
     "output_type": "stream",
     "text": [
      "The proportion of bar coupons that were accepted when users went to bar more than once a month and over the age of 25 is: 0.6202\n"
     ]
    }
   ],
   "source": [
    "df_bar_2_or_more_over_25 = data_encoded[(data_encoded['Bar'] >= 2.0) & (data_encoded['age'] >= 2.0)]\n",
    "\n",
    "# Total number of observations related to bar coupons when they went to bar more than once a month and over the age of 25\n",
    "num_records_2_or_more_over_25 = df_bar_2_or_more_over_25.shape[0]\n",
    "\n",
    "# Number of observations where bar coupon was accepted when they went to bar more than once a month and over the age of 25\n",
    "num_accepted_2_or_more_over_25 = df_bar_2_or_more_over_25['Y'].sum()\n",
    "\n",
    "# Proportion of the total observations in which users chose to accept the coupon when they went to bar more than once a month and over the age of 25\n",
    "bar_cpn_acc_proportion_2_or_more_over_25 = num_accepted_2_or_more_over_25 / num_records_2_or_more_over_25\n",
    "\n",
    "print(f\"The proportion of bar coupons that were accepted when users went to bar more than once a month and over the age of 25 is: {bar_cpn_acc_proportion_2_or_more_over_25:.4f}\")"
   ]
  },
  {
   "cell_type": "code",
   "execution_count": 23,
   "metadata": {
    "colab": {
     "base_uri": "https://localhost:8080/"
    },
    "id": "ERMLCeduuFkT",
    "outputId": "c4ccb0e0-11c3-48c1-8648-73e9b0a07911"
   },
   "outputs": [
    {
     "name": "stdout",
     "output_type": "stream",
     "text": [
      "The proportion of bar coupons that were accepted when users went to bar less than once a month or under the age of 25 is: 0.5528\n"
     ]
    }
   ],
   "source": [
    "df_bar_less_than_2_or_under_25 = data_encoded[(data_encoded['Bar'] < 2.0) | (data_encoded['age'] < 2.0)]\n",
    "\n",
    "# Total number of observations related to bar coupons when they went to bar less than once a month and under the age of 25\n",
    "num_records_less_than_2_or_under_25 = df_bar_less_than_2_or_under_25.shape[0]\n",
    "\n",
    "# Number of observations where bar coupon was accepted when they went to bar less than once a month and under the age of 25\n",
    "num_accepted_less_than_2_or_under_25 = df_bar_less_than_2_or_under_25['Y'].sum()\n",
    "\n",
    "# Proportion of the total observations in which users chose to accept the coupon when they went to bar less than once a month and under the age of 25\n",
    "bar_cpn_acc_proportion_less_than_2_or_under_25 = num_accepted_less_than_2_or_under_25 / num_records_less_than_2_or_under_25\n",
    "\n",
    "print(f\"The proportion of bar coupons that were accepted when users went to bar less than once a month or under the age of 25 is: {bar_cpn_acc_proportion_less_than_2_or_under_25:.4f}\")\n"
   ]
  },
  {
   "cell_type": "markdown",
   "metadata": {
    "id": "S4RKT4PJ_qRK"
   },
   "source": [
    "5. Use the same process to compare the acceptance rate between drivers who go to bars more than once a month and had passengers that were not a kid and had occupations other than farming, fishing, or forestry.\n"
   ]
  },
  {
   "cell_type": "code",
   "execution_count": 24,
   "metadata": {
    "colab": {
     "base_uri": "https://localhost:8080/"
    },
    "id": "sENaI2Tg_qRK",
    "outputId": "bc542faf-f39a-4a5c-c27c-e8f0600133e5"
   },
   "outputs": [
    {
     "name": "stdout",
     "output_type": "stream",
     "text": [
      "The proportion of bar coupons that were accepted when users went to bar more than once a month is: 0.6213\n"
     ]
    }
   ],
   "source": [
    "df_bar_2_or_more = data_encoded[data_encoded['Bar'] >= 2.0]\n",
    "\n",
    "# Total number of observations related to bar coupons when they went to bar more than once a month\n",
    "num_records_2_or_more = df_bar_2_or_more.shape[0]\n",
    "\n",
    "# Number of observations where bar coupon was accepted when they went to bar more than once a month\n",
    "num_accepted_2_or_more = df_bar_2_or_more['Y'].sum()\n",
    "\n",
    "# Proportion of the total observations in which users chose to accept the coupon when they went to bar more than once a month and over the age of 25\n",
    "bar_cpn_acc_proportion_2_or_more = num_accepted_2_or_more / num_records_2_or_more\n",
    "\n",
    "print(f\"The proportion of bar coupons that were accepted when users went to bar more than once a month is: {bar_cpn_acc_proportion_2_or_more:.4f}\")\n"
   ]
  },
  {
   "cell_type": "code",
   "execution_count": 25,
   "metadata": {
    "colab": {
     "base_uri": "https://localhost:8080/"
    },
    "id": "YblLDCqN1Vb0",
    "outputId": "590f8946-ab41-40aa-b6bc-c0002c43e990"
   },
   "outputs": [
    {
     "name": "stdout",
     "output_type": "stream",
     "text": [
      "The proportion of bar coupons that were accepted when users had passengers that were not kid(s) is: 0.5730\n"
     ]
    }
   ],
   "source": [
    "df_bar_passenger_not_kid = data_encoded[data_encoded['passanger_Kid(s)'] == False]\n",
    "\n",
    "# Total number of observations related to bar coupons when they had passengers that were not kid(s)\n",
    "num_records_passenger_not_kid = df_bar_passenger_not_kid.shape[0]\n",
    "\n",
    "# Number of observations where bar coupon was accepted when they had passengers that were not kid(s)\n",
    "num_accepted_passenger_not_kid = df_bar_passenger_not_kid['Y'].sum()\n",
    "\n",
    "# Proportion of the total observations in which users chose to accept the coupon when they had passengers that were not kid(s)\n",
    "bar_cpn_acc_proportion_passenger_not_kid = num_accepted_passenger_not_kid / num_records_passenger_not_kid\n",
    "\n",
    "print(f\"The proportion of bar coupons that were accepted when users had passengers that were not kid(s) is: {bar_cpn_acc_proportion_passenger_not_kid:.4f}\")"
   ]
  },
  {
   "cell_type": "code",
   "execution_count": 26,
   "metadata": {
    "colab": {
     "base_uri": "https://localhost:8080/"
    },
    "id": "mj3255JK3z0Q",
    "outputId": "92c2c40b-e453-4682-a251-b3f9f190a4e8"
   },
   "outputs": [
    {
     "name": "stdout",
     "output_type": "stream",
     "text": [
      "The proportion of bar coupons that were accepted when the drivers had occupations other than farming, fishing, or forestry is: 0.5677\n"
     ]
    }
   ],
   "source": [
    "df_bar_occ_not_farmfishforestry = data_encoded[data_encoded['occupation_Farming Fishing & Forestry'] == False]\n",
    "\n",
    "# Total number of observations related to bar coupons when the drivers had occupations other than farming, fishing, or forestry.\n",
    "num_records_occ_not_farmfishforestry = df_bar_occ_not_farmfishforestry.shape[0]\n",
    "\n",
    "# Number of observations where bar coupon was accepted when occ_not_farmfishforestry.\n",
    "num_accepted_occ_not_farmfishforestry = df_bar_occ_not_farmfishforestry['Y'].sum()\n",
    "\n",
    "# Proportion of the total observations in which users chose to accept the coupon when they had occupations other than farming, fishing, or forestry.\n",
    "bar_cpn_acc_proportion_occ_not_farmfishforestry = num_accepted_occ_not_farmfishforestry / num_records_occ_not_farmfishforestry\n",
    "\n",
    "print(f\"The proportion of bar coupons that were accepted when the drivers had occupations other than farming, fishing, or forestry is: {bar_cpn_acc_proportion_occ_not_farmfishforestry:.4f}\")"
   ]
  },
  {
   "cell_type": "markdown",
   "metadata": {
    "id": "n2LIUTil_qRK"
   },
   "source": [
    "6. Compare the acceptance rates between those drivers who:\n",
    "\n",
    "- go to bars more than once a month, had passengers that were not a kid, and were not widowed *OR*\n",
    "- go to bars more than once a month and are under the age of 30 *OR*\n",
    "- go to cheap restaurants more than 4 times a month and income is less than 50K.\n",
    "\n"
   ]
  },
  {
   "cell_type": "code",
   "execution_count": 27,
   "metadata": {
    "colab": {
     "base_uri": "https://localhost:8080/"
    },
    "id": "aK_wEzx7_qRK",
    "outputId": "bb9792e0-02ce-4ad2-9528-40ee14124b1f"
   },
   "outputs": [
    {
     "name": "stdout",
     "output_type": "stream",
     "text": [
      "The proportion of bar coupons that were accepted when users went to bar more than once a month and under the age of 30 is: 0.6275\n"
     ]
    }
   ],
   "source": [
    "#Comparing the acceptance rates between those drivers who:\n",
    "#go to bars more than once a month and are under the age of 30\n",
    "\n",
    "df_bar_2_or_more_under_30 = data_encoded[(data_encoded['Bar'] >= 2.0) & (data_encoded['age'] <= 2.0)]\n",
    "\n",
    "# Total number of observations related to bar coupons when they went to bar more than once a month and over the age of 25\n",
    "num_records_2_or_more_under_30 = df_bar_2_or_more_under_30.shape[0]\n",
    "\n",
    "# Number of observations where bar coupon was accepted when they went to bar more than once a month and over the age of 25\n",
    "num_accepted_2_or_more_under_30 = df_bar_2_or_more_under_30['Y'].sum()\n",
    "\n",
    "# Proportion of the total observations in which users chose to accept the coupon when they went to bar more than once a month and over the age of 25\n",
    "bar_cpn_acc_proportion_2_or_more_under_30 = num_accepted_2_or_more_under_30 / num_records_2_or_more_under_30\n",
    "\n",
    "print(f\"The proportion of bar coupons that were accepted when users went to bar more than once a month and under the age of 30 is: {bar_cpn_acc_proportion_2_or_more_under_30:.4f}\")"
   ]
  },
  {
   "cell_type": "markdown",
   "metadata": {
    "id": "v3fL3QkO_qRK"
   },
   "source": [
    "7.  Based on these observations, what do you hypothesize about drivers who accepted the bar coupons?"
   ]
  },
  {
   "cell_type": "code",
   "execution_count": 28,
   "metadata": {
    "id": "Y48naDFh_qRL"
   },
   "outputs": [],
   "source": [
    "# Based on the acceptance rates we calculated for the bar coupons, here are some observations and a possible hypothesis:\n",
    "# Drivers who went to a bar more than once a month and were over the age of 25 had a higher acceptance rate (0.6202) compared to those who went 3 or fewer times (0.5673) or 4 or more times a month (0.5776).\n",
    "# Drivers who went to bars more than once a month and were under the age of 30 had a slightly higher acceptance rate (0.6275) compared to those over 25 (0.6202).\n",
    "# Drivers who went to bars more than once a month had an acceptance rate of 0.6213, drivers with passengers who were not kids had an acceptance rate of 0.5730, and\n",
    "# drivers with occupations other than farming, fishing, or forestry had an acceptance rate of 0.5677.\n",
    "\n",
    "# Hypothesis:\n",
    "\n",
    "# Drivers who frequent bars more often and are within a certain age range (specifically under 30 based on our analysis so far) are more likely to accept bar coupons.\n",
    "# The presence of certain passengers (not kids) and specific occupations might also influence acceptance, but the frequency of bar visits and age seem to be more strongly correlated based on our analysis.\n"
   ]
  },
  {
   "cell_type": "code",
   "execution_count": 29,
   "metadata": {
    "colab": {
     "base_uri": "https://localhost:8080/",
     "height": 570
    },
    "id": "d96a71d0",
    "outputId": "673a0902-e2d4-471d-8317-a7062090b194"
   },
   "outputs": [
    {
     "data": {
      "image/png": "[encoded data removed]",
      "text/plain": [
       "<Figure size 1000x600 with 1 Axes>"
      ]
     },
     "metadata": {},
     "output_type": "display_data"
    }
   ],
   "source": [
    "# Create a DataFrame with only bar coupons\n",
    "df_bar_coupons = data_encoded[data_encoded['Bar'] == True].copy()\n",
    "\n",
    "# Convert age back to string categories for better plotting labels\n",
    "age_mapping_inverse = {v: k for k, v in ordinal_mapping['age'].items()}\n",
    "df_bar_coupons['age_group'] = df_bar_coupons['age'].map(age_mapping_inverse)\n",
    "\n",
    "# Group by age group and calculate the mean acceptance rate\n",
    "age_acceptance = df_bar_coupons.groupby('age_group')['Y'].mean().sort_index()\n",
    "\n",
    "plt.figure(figsize=(10, 6))\n",
    "sns.barplot(x=age_acceptance.index, y=age_acceptance.values)\n",
    "plt.title('Bar Coupon Acceptance Rate by Age Group')\n",
    "plt.xlabel('Age Group')\n",
    "plt.ylabel('Acceptance Rate')\n",
    "plt.show()"
   ]
  },
  {
   "cell_type": "code",
   "execution_count": 30,
   "metadata": {
    "id": "_EusX-7l849M"
   },
   "outputs": [],
   "source": [
    "# Based on the above visualization, it looks like the users aged below 21 were most likely to accept the coupon and we can target this specific age group with a higher chance of acceptance\n",
    "# for Bar related coupons"
   ]
  },
  {
   "cell_type": "markdown",
   "metadata": {
    "id": "r4Hu1zOb_qRL"
   },
   "source": [
    "### Independent Investigation\n",
    "\n",
    "Using the bar coupon example as motivation, you are to explore one of the other coupon groups and try to determine the characteristics of passengers who accept the coupons.  "
   ]
  },
  {
   "cell_type": "code",
   "execution_count": 31,
   "metadata": {
    "colab": {
     "base_uri": "https://localhost:8080/",
     "height": 601
    },
    "id": "wtNcnAwRC85o",
    "outputId": "7d1d82b0-fd28-410d-df03-2fb157f9218c"
   },
   "outputs": [
    {
     "data": {
      "image/png": "[encoded data removed]",
      "text/plain": [
       "<Figure size 1000x600 with 1 Axes>"
      ]
     },
     "metadata": {},
     "output_type": "display_data"
    }
   ],
   "source": [
    "# For further analysis, let's look at all the coupon groups and acceptance within each group\n",
    "\n",
    "# Create count plots for coupon acceptance by coupon group\n",
    "plt.figure(figsize=(10, 6))\n",
    "sns.countplot(data=data, x='coupon', hue='Y')\n",
    "plt.title(f'Coupon Acceptance by coupon group')\n",
    "plt.xlabel('Coupon Group')\n",
    "plt.ylabel('Count')\n",
    "plt.xticks(rotation=45, ha='right')\n",
    "plt.tight_layout()\n",
    "plt.show()"
   ]
  },
  {
   "cell_type": "code",
   "execution_count": 32,
   "metadata": {
    "id": "0c71cQhu_qRL"
   },
   "outputs": [],
   "source": [
    "# Based on the count plots above and bar plot we looked at earlier on coupon types, it looks like the maximum coupons were available for CoffeeHouse and it had about the same acceptance and rejection rates.\n",
    "# Let's look into this further.\n",
    "\n",
    "# Investigating the CoffeeHouse Coupons\n",
    "\n",
    "# Create a new DataFrame that contains just the CoffeeHouse coupons.\n",
    "df_coffee_house = data_encoded[data_encoded['CoffeeHouse'] > 0.0]"
   ]
  },
  {
   "cell_type": "code",
   "execution_count": 33,
   "metadata": {
    "colab": {
     "base_uri": "https://localhost:8080/"
    },
    "id": "QEsBkvIN_qRL",
    "outputId": "49be34f4-3200-4456-84e6-639fa2fd543e"
   },
   "outputs": [
    {
     "name": "stdout",
     "output_type": "stream",
     "text": [
      "The proportion of CoffeeHouse coupons that were accepted is: 0.6011\n"
     ]
    }
   ],
   "source": [
    "# What proportion of CoffeeHouse coupons were accepted?\n",
    "# Total number of observations related to CoffeeHouse coupons\n",
    "num_records = df_coffee_house.shape[0]\n",
    "\n",
    "# Number of observations where CoffeeHouse coupon was accepted\n",
    "num_accepted = df_coffee_house['Y'].sum()\n",
    "\n",
    "# Proportion of the total observations in which users chose to accept the coupon\n",
    "coffee_house_cpn_acceptance_proportion = num_accepted / num_records\n",
    "\n",
    "print(f\"The proportion of CoffeeHouse coupons that were accepted is: {coffee_house_cpn_acceptance_proportion:.4f}\")"
   ]
  },
  {
   "cell_type": "code",
   "execution_count": 34,
   "metadata": {
    "colab": {
     "base_uri": "https://localhost:8080/"
    },
    "id": "fTC2WGE3_qRL",
    "outputId": "43d23779-b68f-4b81-acd9-525dca2b1375"
   },
   "outputs": [
    {
     "name": "stdout",
     "output_type": "stream",
     "text": [
      "The proportion of CoffeeHouse coupons that were accepted when users went to CoffeeHouse 3 or fewer times a month is: 0.5660\n"
     ]
    }
   ],
   "source": [
    "# Compare the acceptance rate between those who went to a CoffeeHouse 3 or fewer times a month to those who went more.\n",
    "\n",
    "df_ch_3_or_fewer = data_encoded[data_encoded['CoffeeHouse'] <= 3.0]\n",
    "\n",
    "# Total number of observations related to CoffeeHouse coupons when they went to CoffeeHouse 3 or fewer times a month\n",
    "num_records_3_or_fewer = df_ch_3_or_fewer.shape[0]\n",
    "\n",
    "# Number of observations where CoffeeHouse coupon was accepted when they went to CoffeeHouse 3 or fewer times a month\n",
    "num_accepted_3_or_fewer = df_ch_3_or_fewer['Y'].sum()\n",
    "\n",
    "# Proportion of the total observations in which users chose to accept the coupon when they went to CoffeeHouse 3 or fewer times a month\n",
    "ch_cpn_acc_proportion_3_or_fewer = num_accepted_3_or_fewer / num_records_3_or_fewer\n",
    "\n",
    "print(f\"The proportion of CoffeeHouse coupons that were accepted when users went to CoffeeHouse 3 or fewer times a month is: {ch_cpn_acc_proportion_3_or_fewer:.4f}\")\n"
   ]
  },
  {
   "cell_type": "code",
   "execution_count": 35,
   "metadata": {
    "colab": {
     "base_uri": "https://localhost:8080/"
    },
    "id": "RrqUWn7d_qRL",
    "outputId": "b881a5db-10c7-47f9-b76a-c98144ae78de"
   },
   "outputs": [
    {
     "name": "stdout",
     "output_type": "stream",
     "text": [
      "The proportion of CoffeeHouse coupons that were accepted when users went to CoffeeHouse 4 or more times a month is: 0.5836\n"
     ]
    }
   ],
   "source": [
    "df_ch_4_or_more = data_encoded[data_encoded['CoffeeHouse'] > 3.0]\n",
    "\n",
    "# Total number of observations related to CoffeeHouse coupons when they went to CoffeeHouse more than 3 times a month\n",
    "num_records_4_or_more = df_ch_4_or_more.shape[0]\n",
    "\n",
    "# Number of observations where CoffeeHouse coupon was accepted when they went to CoffeeHouse 3 or fewer times a month\n",
    "num_accepted_4_or_more = df_ch_4_or_more['Y'].sum()\n",
    "\n",
    "# Proportion of the total observations in which users chose to accept the coupon when they went to CoffeeHouse 3 or fewer times a month\n",
    "ch_cpn_acc_proportion_4_or_more = num_accepted_4_or_more / num_records_4_or_more\n",
    "\n",
    "print(f\"The proportion of CoffeeHouse coupons that were accepted when users went to CoffeeHouse 4 or more times a month is: {ch_cpn_acc_proportion_4_or_more:.4f}\")"
   ]
  },
  {
   "cell_type": "code",
   "execution_count": 36,
   "metadata": {
    "colab": {
     "base_uri": "https://localhost:8080/"
    },
    "id": "_oykf8YP_qRL",
    "outputId": "02dd5470-8df1-4949-890a-8dadb2c989a5"
   },
   "outputs": [
    {
     "name": "stdout",
     "output_type": "stream",
     "text": [
      "The proportion of CoffeeHouse coupons that were accepted when users went to CoffeeHouse more than once a month is: 0.6343\n"
     ]
    }
   ],
   "source": [
    "# Now, compare the acceptance rate between drivers who go to coffeehouses more than once a month and were driving with kid(s).\n",
    "\n",
    "df_ch_2_or_more = data_encoded[data_encoded['CoffeeHouse'] >= 2.0]\n",
    "\n",
    "# Total number of observations related to CoffeeHouse coupons when they went to CoffeeHouse more than once a month\n",
    "num_records_2_or_more = df_ch_2_or_more.shape[0]\n",
    "\n",
    "# Number of observations where CoffeeHouse coupon was accepted when they went to CoffeeHouse more than once a month\n",
    "num_accepted_2_or_more = df_ch_2_or_more['Y'].sum()\n",
    "\n",
    "# Proportion of the total observations in which users chose to accept the coupon when they went to CoffeeHouse more than once a month\n",
    "ch_cpn_acc_proportion_2_or_more = num_accepted_2_or_more / num_records_2_or_more\n",
    "\n",
    "print(f\"The proportion of CoffeeHouse coupons that were accepted when users went to CoffeeHouse more than once a month is: {ch_cpn_acc_proportion_2_or_more:.4f}\")"
   ]
  },
  {
   "cell_type": "code",
   "execution_count": 37,
   "metadata": {
    "colab": {
     "base_uri": "https://localhost:8080/"
    },
    "id": "1M8vNRh3LDS0",
    "outputId": "cbf35ced-0f83-4817-aef1-b6112e3b47f0"
   },
   "outputs": [
    {
     "name": "stdout",
     "output_type": "stream",
     "text": [
      "The proportion of CoffeeHouse coupons that were accepted when users had passengers that were not kid(s) is: 0.5730\n"
     ]
    }
   ],
   "source": [
    "df_ch_passenger_Kids = data_encoded[data_encoded['passanger_Kid(s)'] == False]\n",
    "\n",
    "# Total number of observations related to CoffeeHouse coupons when they had passengers that were not kid(s)\n",
    "num_records_passenger_Kids = df_ch_passenger_Kids.shape[0]\n",
    "\n",
    "# Number of observations where CoffeeHouse coupon was accepted when they had passengers that were not kid(s)\n",
    "num_accepted_passenger_Kids = df_ch_passenger_Kids['Y'].sum()\n",
    "\n",
    "# Proportion of the total observations in which users chose to accept the coupon when they had passengers that were not kid(s)\n",
    "ch_cpn_acc_proportion_passenger_Kids = num_accepted_passenger_Kids / num_records_passenger_Kids\n",
    "\n",
    "print(f\"The proportion of CoffeeHouse coupons that were accepted when users had passengers that were not kid(s) is: {ch_cpn_acc_proportion_passenger_Kids:.4f}\")"
   ]
  },
  {
   "cell_type": "code",
   "execution_count": 38,
   "metadata": {
    "colab": {
     "base_uri": "https://localhost:8080/"
    },
    "id": "RW5wqTyxP5HI",
    "outputId": "66ff3f1e-edd3-4017-cff7-414841063233"
   },
   "outputs": [
    {
     "name": "stdout",
     "output_type": "stream",
     "text": [
      "The proportion of CoffeeHouse coupons that were accepted when users went to CoffeeHouse more than once a month and under the age of 30 is: 0.6700\n"
     ]
    }
   ],
   "source": [
    "#Comparing the acceptance rates between those drivers who:\n",
    "#go to Coffee houses more than once a month and are under the age of 30\n",
    "\n",
    "df_ch_2_or_more_under_30 = data_encoded[(data_encoded['CoffeeHouse'] >= 2.0) & (data_encoded['age'] <= 2.0)]\n",
    "\n",
    "# Total number of observations related to CoffeeHouse coupons when they went to CoffeeHouse more than once a month and over the age of 25\n",
    "num_records_2_or_more_under_30 = df_ch_2_or_more_under_30.shape[0]\n",
    "\n",
    "# Number of observations where CoffeeHouse coupon was accepted when they went to CoffeeHouse more than once a month and over the age of 25\n",
    "num_accepted_2_or_more_under_30 = df_ch_2_or_more_under_30['Y'].sum()\n",
    "\n",
    "# Proportion of the total observations in which users chose to accept the coupon when they went to CoffeeHouse more than once a month and over the age of 25\n",
    "ch_cpn_acc_proportion_2_or_more_under_30 = num_accepted_2_or_more_under_30 / num_records_2_or_more_under_30\n",
    "\n",
    "print(f\"The proportion of CoffeeHouse coupons that were accepted when users went to CoffeeHouse more than once a month and under the age of 30 is: {ch_cpn_acc_proportion_2_or_more_under_30:.4f}\")"
   ]
  },
  {
   "cell_type": "code",
   "execution_count": 39,
   "metadata": {
    "id": "4WLc1jgpNfSN"
   },
   "outputs": [],
   "source": [
    "# Based on the above analysis of CoffeeHouse coupons, the overall acceptance rate for CoffeeHouse coupons is around 60.11%.\n",
    "# As expected, drivers who frequent CoffeeHouses more often (4 or more times a month with an acceptance rate of 58.36% and more than once a month with an acceptance rate of 63.43%) are more likely\n",
    "# to accept CoffeeHouse coupons compared to those who go 3 or fewer times (56.60%).\n",
    "# Drivers with passengers who are not kids have an acceptance rate of 57.30%, which is slightly lower than those who frequent coffeehouses more often.\n",
    "# Therefore, a hypothesis is that drivers who visit coffeehouses more frequently are more likely to accept coffeehouse coupons, with those going more than once a month showing a particularly higher acceptance rate.\n",
    "# The presence of passengers who are not kids also seems to have a positive influence on acceptance.\n",
    "# Drivers who went to Coffee Houses more than once a month and were under the age of 30 had a pretty high acceptance rate (0.6700)."
   ]
  },
  {
   "cell_type": "code",
   "execution_count": 40,
   "metadata": {
    "colab": {
     "base_uri": "https://localhost:8080/",
     "height": 570
    },
    "id": "qFoUpEgXPIn7",
    "outputId": "2611c0b9-11e2-4ebe-8e1c-46f8a94c7846"
   },
   "outputs": [
    {
     "data": {
      "image/png": "[encoded data removed]",
      "text/plain": [
       "<Figure size 1000x600 with 1 Axes>"
      ]
     },
     "metadata": {},
     "output_type": "display_data"
    }
   ],
   "source": [
    "# Create a DataFrame with only CoffeeHouse coupons\n",
    "df_ch_coupons = data_encoded[data_encoded['CoffeeHouse'] == True].copy()\n",
    "\n",
    "# Convert age back to string categories for better plotting labels\n",
    "age_mapping_inverse = {v: k for k, v in ordinal_mapping['age'].items()}\n",
    "df_ch_coupons['age_group'] = df_ch_coupons['age'].map(age_mapping_inverse)\n",
    "\n",
    "# Group by age group and calculate the mean acceptance rate\n",
    "age_acceptance = df_ch_coupons.groupby('age_group')['Y'].mean().sort_index()\n",
    "\n",
    "plt.figure(figsize=(10, 6))\n",
    "sns.barplot(x=age_acceptance.index, y=age_acceptance.values)\n",
    "plt.title('CoffeeHouse Coupon Acceptance Rate by Age Group')\n",
    "plt.xlabel('Age Group')\n",
    "plt.ylabel('Acceptance Rate')\n",
    "plt.show()"
   ]
  },
  {
   "cell_type": "code",
   "execution_count": 41,
   "metadata": {
    "id": "092GoslTQ8mC"
   },
   "outputs": [],
   "source": [
    "# Based on the above visualization, it looks like the users aged below 21 were most likely to accept the coupon and we can target this specific age group with a higher chance of acceptance\n",
    "# for CoffeeHouse related coupons as well"
   ]
  }
 ],
 "metadata": {
  "colab": {
   "provenance": []
  },
  "kernelspec": {
   "display_name": "Python [conda env:base] *",
   "language": "python",
   "name": "conda-base-py"
  },
  "language_info": {
   "codemirror_mode": {
    "name": "ipython",
    "version": 3
   },
   "file_extension": ".py",
   "mimetype": "text/x-python",
   "name": "python",
   "nbconvert_exporter": "python",
   "pygments_lexer": "ipython3",
   "version": "3.13.5"
  }
 },
 "nbformat": 4,
 "nbformat_minor": 4
}
